{
 "cells": [
  {
   "cell_type": "code",
   "execution_count": 46,
   "id": "outdoor-sunglasses",
   "metadata": {},
   "outputs": [],
   "source": [
    "import pandas as pd\n",
    "import os\n",
    "import glob\n",
    "from datetime import datetime as dt\n",
    "import copy\n",
    "import numpy as np\n",
    "import plotly.express as px\n",
    "myPath = os.getcwd() # current working directory - change this to the location of your exported google data"
   ]
  },
  {
   "cell_type": "code",
   "execution_count": null,
   "id": "reported-jersey",
   "metadata": {},
   "outputs": [],
   "source": [
    "def extractData(myDict,keys):\n",
    "    \"\"\"\n",
    "    Reads a nested dictionary.\n",
    "    \n",
    "    Args:\n",
    "        myDict (dict of dict of...): Nested dictionary of arbitrary number of nestings, e.g. like what you get in a json file.\n",
    "        \n",
    "        keys (list of strs): List of keys corresponding to the nested dictionaries you want to exract.\n",
    "        \n",
    "    Returns:\n",
    "        element (object): myDict[key0][key1]...[keyn]\n",
    "    \n",
    "    Created on 21/03/2021 by Bennett Schneider\n",
    "    \n",
    "    \"\"\"\n",
    "    subDict = copy.deepcopy(myDict)\n",
    "\n",
    "    try:\n",
    "        for key in keys:\n",
    "            subDict = subDict[key] # recursively pull out keys until you can't anymore\n",
    "        element = subDict # return the bottom element\n",
    "    except KeyError:\n",
    "        element = np.nan # if the key doesn't exist, return none\n",
    "    except TypeError:\n",
    "        element = subDict # if you go too far and you've found a non-dict element, return this\n",
    "\n",
    "    return element"
   ]
  },
  {
   "cell_type": "code",
   "execution_count": 2,
   "id": "grand-acrylic",
   "metadata": {},
   "outputs": [],
   "source": [
    "# Rename the unzipped folder you download from google to json. \n",
    "# Inside, it should have Takeout/Location History/Semantic Location History\n",
    "tPath = os.path.join(myPath,r'json','Takeout','Location History','Semantic Location History')"
   ]
  },
  {
   "cell_type": "code",
   "execution_count": 3,
   "id": "confident-pipeline",
   "metadata": {},
   "outputs": [],
   "source": [
    "# Get list of json files representing your semantic location. Grouped by year. One file per month\n",
    "myFiles = []\n",
    "for subdir, dirs, files in os.walk(os.path.join(tPath)):\n",
    "    for filename in files:\n",
    "        myFiles.append(os.path.join(subdir,filename))"
   ]
  },
  {
   "cell_type": "code",
   "execution_count": 10,
   "id": "massive-identity",
   "metadata": {},
   "outputs": [],
   "source": [
    "# Read all the data into a pandas data and concatenate vertically\n",
    "myData = []\n",
    "for file in myFiles:\n",
    "    myData.append(pd.read_json(file))\n",
    "myData = pd.concat(myData)"
   ]
  },
  {
   "cell_type": "code",
   "execution_count": null,
   "id": "inappropriate-comparison",
   "metadata": {},
   "outputs": [],
   "source": [
    "# Pull placeVisit data out of the pandas dataframe\n",
    "\n",
    "procData = myData.copy() # copy myData so we don't overwite it in the subsequent steps\n",
    "\n",
    "# Pull data from the placeVisit -> location position\n",
    "for col in ['name','address','latitudeE7','longitudeE7']:\n",
    "    procData[col] = procData['timelineObjects'].map(lambda x: extractData(x,['placeVisit','location',col]))\n",
    "    \n",
    "procData = procData[~procData['name'].isna()] # remove rows with no name\n",
    "\n",
    "# Convert E7 format to standard lat/lon\n",
    "procData['lat'] = procData['latitudeE7'] / 10.**7\n",
    "procData['lon'] = procData['longitudeE7'] / 10.**7"
   ]
  },
  {
   "cell_type": "code",
   "execution_count": null,
   "id": "early-license",
   "metadata": {},
   "outputs": [],
   "source": [
    "# Pull out timestamps under the placeVisit -> duration position\n",
    "for col in ['startTimestampMs','endTimestampMs']:\n",
    "    procData[col] = procData['timelineObjects'].map(lambda x: extractData(x,['placeVisit','duration',col]))\n",
    "    procData[col] = procData[col].astype(float)/1000 # convert str in ms to float in micro seconds\n",
    "    procData[col.replace('TimestampMs','')] = procData[col].map(lambda x: dt.fromtimestamp(x)) # convert to datetime"
   ]
  },
  {
   "cell_type": "code",
   "execution_count": 76,
   "id": "indonesian-sight",
   "metadata": {},
   "outputs": [],
   "source": [
    "# Flag the the data with total monthly duration at each place\n",
    "procData['Month'] = procData['start'].map(lambda x: float(dt(x.year,x.month,1).strftime('%Y%m'))) # monthly flag as a float\n",
    "procData['Duration'] = (procData['end'] - procData['start']) # duration at each location\n",
    "procData['Duration'] = procData['Duration'].map(lambda x: x.total_seconds()) # convert duration from timedelta to seconds\n",
    "\n",
    "groupedData = procData.copy() # copy procData so we don't overwrite it in the next step\n",
    "\n",
    "# Aggregate so we get the total duration spent in each place during each calendar month\n",
    "groupedData = groupedData.groupby(['Month','name','address']).agg(\n",
    "    {\n",
    "        'lat':np.mean,\n",
    "        'lon':np.mean,\n",
    "        'Duration':np.sum,\n",
    "        'start':np.min,\n",
    "        'end':np.max\n",
    "    }).reset_index()"
   ]
  },
  {
   "cell_type": "code",
   "execution_count": null,
   "id": "departmental-oriental",
   "metadata": {},
   "outputs": [],
   "source": [
    "# Plot all points on a map\n",
    "fig = px.scatter_mapbox(\n",
    "    groupedData,\n",
    "    lat=\"lat\",\n",
    "    lon=\"lon\",\n",
    "    hover_data=[\"name\", \"address\",'start','end'],\n",
    "    color='Month',\n",
    "    size='Duration',\n",
    "    color_continuous_scale ='Viridis', zoom=3, height=1000,width=1800)\n",
    "fig.update_layout(mapbox_style=\"open-street-map\") # use open streetmap as the base\n",
    "fig.write_html(os.path.join(myPath,'locationsHistory.html')) # save the data to myPath, set in the first cell\n",
    "fig.show() # show the map in the notebook as well"
   ]
  }
 ],
 "metadata": {
  "kernelspec": {
   "display_name": "Python 3",
   "language": "python",
   "name": "python3"
  },
  "language_info": {
   "codemirror_mode": {
    "name": "ipython",
    "version": 3
   },
   "file_extension": ".py",
   "mimetype": "text/x-python",
   "name": "python",
   "nbconvert_exporter": "python",
   "pygments_lexer": "ipython3",
   "version": "3.8.8"
  }
 },
 "nbformat": 4,
 "nbformat_minor": 5
}
